{
 "cells": [
  {
   "cell_type": "code",
   "execution_count": 19,
   "id": "f6829a25",
   "metadata": {},
   "outputs": [],
   "source": [
    "import pandas as pd\n",
    "import numpy as np\n",
    "from numba import njit"
   ]
  },
  {
   "cell_type": "code",
   "execution_count": 7,
   "id": "bd92f3dc",
   "metadata": {},
   "outputs": [
    {
     "name": "stdout",
     "output_type": "stream",
     "text": [
      "1.1 ms ± 83.3 μs per loop (mean ± std. dev. of 7 runs, 1,000 loops each)\n",
      "90.1 ms ± 4.31 ms per loop (mean ± std. dev. of 7 runs, 10 loops each)\n"
     ]
    }
   ],
   "source": [
    "arr = np.random.rand(1000000)\n",
    "%timeit np.sum(arr)\n",
    "%timeit sum(arr)"
   ]
  },
  {
   "cell_type": "code",
   "execution_count": 9,
   "id": "04aca645",
   "metadata": {},
   "outputs": [
    {
     "name": "stdout",
     "output_type": "stream",
     "text": [
      "685 μs ± 37.9 μs per loop (mean ± std. dev. of 7 runs, 1,000 loops each)\n",
      "74 ms ± 5.03 ms per loop (mean ± std. dev. of 7 runs, 10 loops each)\n"
     ]
    }
   ],
   "source": [
    "#Tạo một mảng NumPy lớn (1 triệu phần tử) và so sánh thời gian tính tổng bằng np.sum và vòng lặp for.\n",
    "arr = np.arange(1000000)\n",
    "%timeit np.sum(arr)\n",
    "%timeit sum(arr)"
   ]
  },
  {
   "cell_type": "code",
   "execution_count": 12,
   "id": "966868cb",
   "metadata": {},
   "outputs": [
    {
     "name": "stdout",
     "output_type": "stream",
     "text": [
      "1.86 ms ± 265 μs per loop (mean ± std. dev. of 7 runs, 100 loops each)\n",
      "269 ms ± 91.7 ms per loop (mean ± std. dev. of 7 runs, 1 loop each)\n"
     ]
    }
   ],
   "source": [
    "#Tạo một DataFrame lớn và so sánh thời gian tính tổng cột bằng sum và apply.\n",
    "df = pd.DataFrame({'A': np.random.rand(1000000)})\n",
    "%timeit df['A'].sum()\n",
    "%timeit df['A'].apply(lambda x: x).sum()"
   ]
  },
  {
   "cell_type": "code",
   "execution_count": 14,
   "id": "c109d580",
   "metadata": {},
   "outputs": [
    {
     "data": {
      "text/html": [
       "<div>\n",
       "<style scoped>\n",
       "    .dataframe tbody tr th:only-of-type {\n",
       "        vertical-align: middle;\n",
       "    }\n",
       "\n",
       "    .dataframe tbody tr th {\n",
       "        vertical-align: top;\n",
       "    }\n",
       "\n",
       "    .dataframe thead th {\n",
       "        text-align: right;\n",
       "    }\n",
       "</style>\n",
       "<table border=\"1\" class=\"dataframe\">\n",
       "  <thead>\n",
       "    <tr style=\"text-align: right;\">\n",
       "      <th></th>\n",
       "      <th>A</th>\n",
       "      <th>Bình phương</th>\n",
       "      <th>Bình phương slow</th>\n",
       "    </tr>\n",
       "  </thead>\n",
       "  <tbody>\n",
       "    <tr>\n",
       "      <th>0</th>\n",
       "      <td>0.208728</td>\n",
       "      <td>0.043567</td>\n",
       "      <td>0.043567</td>\n",
       "    </tr>\n",
       "    <tr>\n",
       "      <th>1</th>\n",
       "      <td>0.127187</td>\n",
       "      <td>0.016176</td>\n",
       "      <td>0.016176</td>\n",
       "    </tr>\n",
       "    <tr>\n",
       "      <th>2</th>\n",
       "      <td>0.869200</td>\n",
       "      <td>0.755509</td>\n",
       "      <td>0.755509</td>\n",
       "    </tr>\n",
       "    <tr>\n",
       "      <th>3</th>\n",
       "      <td>0.565977</td>\n",
       "      <td>0.320330</td>\n",
       "      <td>0.320330</td>\n",
       "    </tr>\n",
       "    <tr>\n",
       "      <th>4</th>\n",
       "      <td>0.546006</td>\n",
       "      <td>0.298122</td>\n",
       "      <td>0.298122</td>\n",
       "    </tr>\n",
       "    <tr>\n",
       "      <th>...</th>\n",
       "      <td>...</td>\n",
       "      <td>...</td>\n",
       "      <td>...</td>\n",
       "    </tr>\n",
       "    <tr>\n",
       "      <th>999995</th>\n",
       "      <td>0.816766</td>\n",
       "      <td>0.667106</td>\n",
       "      <td>0.667106</td>\n",
       "    </tr>\n",
       "    <tr>\n",
       "      <th>999996</th>\n",
       "      <td>0.125203</td>\n",
       "      <td>0.015676</td>\n",
       "      <td>0.015676</td>\n",
       "    </tr>\n",
       "    <tr>\n",
       "      <th>999997</th>\n",
       "      <td>0.454006</td>\n",
       "      <td>0.206122</td>\n",
       "      <td>0.206122</td>\n",
       "    </tr>\n",
       "    <tr>\n",
       "      <th>999998</th>\n",
       "      <td>0.266624</td>\n",
       "      <td>0.071088</td>\n",
       "      <td>0.071088</td>\n",
       "    </tr>\n",
       "    <tr>\n",
       "      <th>999999</th>\n",
       "      <td>0.439747</td>\n",
       "      <td>0.193378</td>\n",
       "      <td>0.193378</td>\n",
       "    </tr>\n",
       "  </tbody>\n",
       "</table>\n",
       "<p>1000000 rows × 3 columns</p>\n",
       "</div>"
      ],
      "text/plain": [
       "               A  Bình phương  Bình phương slow\n",
       "0       0.208728     0.043567          0.043567\n",
       "1       0.127187     0.016176          0.016176\n",
       "2       0.869200     0.755509          0.755509\n",
       "3       0.565977     0.320330          0.320330\n",
       "4       0.546006     0.298122          0.298122\n",
       "...          ...          ...               ...\n",
       "999995  0.816766     0.667106          0.667106\n",
       "999996  0.125203     0.015676          0.015676\n",
       "999997  0.454006     0.206122          0.206122\n",
       "999998  0.266624     0.071088          0.071088\n",
       "999999  0.439747     0.193378          0.193378\n",
       "\n",
       "[1000000 rows x 3 columns]"
      ]
     },
     "execution_count": 14,
     "metadata": {},
     "output_type": "execute_result"
    }
   ],
   "source": [
    "#Tối ưu hóa một hàm tính bình phương tất cả giá trị trong DataFrame bằng vector hóa.\n",
    "df['Bình phương slow'] = df['A'].apply(lambda x: x**2)\n",
    "df['Bình phương'] = df['A']*df['A']\n",
    "df"
   ]
  },
  {
   "cell_type": "code",
   "execution_count": null,
   "id": "87e83ee9",
   "metadata": {},
   "outputs": [],
   "source": []
  },
  {
   "cell_type": "code",
   "execution_count": 20,
   "id": "671b9748",
   "metadata": {},
   "outputs": [
    {
     "name": "stdout",
     "output_type": "stream",
     "text": [
      "1.87 ms ± 104 μs per loop (mean ± std. dev. of 7 runs, 1,000 loops each)\n",
      "1.31 ms ± 55.8 μs per loop (mean ± std. dev. of 7 runs, 1 loop each)\n"
     ]
    }
   ],
   "source": [
    "#(Nâng cao) Sử dụng numba để tăng tốc một hàm tính tổng bình phương.\n",
    "#Định nghĩa hàm tính tổng bình phương với numba\n",
    "@njit\n",
    "def sum_of_squares(arr):\n",
    "    total = 0\n",
    "    for x in arr:\n",
    "        total += x * x\n",
    "    return total\n",
    "%timeit df['Bình phương'].sum()\n",
    "%timeit sum_of_squares(df['A'].values)"
   ]
  }
 ],
 "metadata": {
  "kernelspec": {
   "display_name": "Python 3",
   "language": "python",
   "name": "python3"
  },
  "language_info": {
   "codemirror_mode": {
    "name": "ipython",
    "version": 3
   },
   "file_extension": ".py",
   "mimetype": "text/x-python",
   "name": "python",
   "nbconvert_exporter": "python",
   "pygments_lexer": "ipython3",
   "version": "3.12.1"
  }
 },
 "nbformat": 4,
 "nbformat_minor": 5
}
