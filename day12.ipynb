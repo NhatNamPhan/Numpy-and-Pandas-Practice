{
 "cells": [
  {
   "cell_type": "code",
   "execution_count": 1,
   "id": "679a2f38",
   "metadata": {},
   "outputs": [],
   "source": [
    "import numpy as np"
   ]
  },
  {
   "cell_type": "markdown",
   "id": "dc288b72",
   "metadata": {},
   "source": [
    "## Tạo mảng 1D"
   ]
  },
  {
   "cell_type": "code",
   "execution_count": null,
   "id": "11108f02",
   "metadata": {},
   "outputs": [
    {
     "data": {
      "text/plain": [
       "array([24, 23, 49, 31, 24, 24, 40, 28, 16, 49], dtype=int32)"
      ]
     },
     "execution_count": 10,
     "metadata": {},
     "output_type": "execute_result"
    }
   ],
   "source": [
    "#Tạo một mảng NumPy 1D chứa 10 số nguyên ngẫu nhiên từ 1 đến 50.\n",
    "task_1 = np.random.randint(1,51,size=10)\n",
    "task_1"
   ]
  },
  {
   "cell_type": "code",
   "execution_count": 6,
   "id": "01ff4776",
   "metadata": {},
   "outputs": [
    {
     "data": {
      "text/plain": [
       "(10,)"
      ]
     },
     "execution_count": 6,
     "metadata": {},
     "output_type": "execute_result"
    }
   ],
   "source": [
    "task_1.shape"
   ]
  },
  {
   "cell_type": "code",
   "execution_count": 7,
   "id": "054c7819",
   "metadata": {},
   "outputs": [
    {
     "data": {
      "text/plain": [
       "dtype('int32')"
      ]
     },
     "execution_count": 7,
     "metadata": {},
     "output_type": "execute_result"
    }
   ],
   "source": [
    "task_1.dtype"
   ]
  },
  {
   "cell_type": "markdown",
   "id": "e9efb078",
   "metadata": {},
   "source": [
    "## Tạo mảng 2D"
   ]
  },
  {
   "cell_type": "code",
   "execution_count": null,
   "id": "79e4c2d3",
   "metadata": {},
   "outputs": [
    {
     "data": {
      "text/plain": [
       "array([[ 1,  2,  3,  4],\n",
       "       [ 5,  6,  7,  8],\n",
       "       [ 9, 10, 11, 12]])"
      ]
     },
     "execution_count": 9,
     "metadata": {},
     "output_type": "execute_result"
    }
   ],
   "source": [
    "#Tạo một mảng 2D 3x4 với các giá trị từ 1 đến 12\n",
    "task_2 = np.arange(1,13).reshape(3,4)\n",
    "task_2"
   ]
  },
  {
   "cell_type": "code",
   "execution_count": null,
   "id": "fed5a9b4",
   "metadata": {},
   "outputs": [
    {
     "data": {
      "text/plain": [
       "array([[ 1,  2,  3,  4],\n",
       "       [ 5,  6,  7,  8],\n",
       "       [ 9, 10, 11, 99]])"
      ]
     },
     "execution_count": 12,
     "metadata": {},
     "output_type": "execute_result"
    }
   ],
   "source": [
    "#Truy cập phần tử ở vị trí (2, 3) và thay đổi giá trị thành 99.\n",
    "task_2[2,3] = 99\n",
    "task_2"
   ]
  },
  {
   "cell_type": "markdown",
   "id": "476cae89",
   "metadata": {},
   "source": [
    "## Tạo mảng đặc biệt"
   ]
  },
  {
   "cell_type": "code",
   "execution_count": null,
   "id": "f5ab82c2",
   "metadata": {},
   "outputs": [
    {
     "data": {
      "text/plain": [
       "array([[0., 0., 0., 0., 0.],\n",
       "       [0., 0., 0., 0., 0.],\n",
       "       [0., 0., 0., 0., 0.],\n",
       "       [0., 0., 0., 0., 0.],\n",
       "       [0., 0., 0., 0., 0.]])"
      ]
     },
     "execution_count": 22,
     "metadata": {},
     "output_type": "execute_result"
    }
   ],
   "source": [
    "#Tạo mảng 5x5 toàn số 0\n",
    "task_3 = np.zeros((5,5))\n",
    "task_3"
   ]
  },
  {
   "cell_type": "code",
   "execution_count": 23,
   "id": "cd2bb23e",
   "metadata": {},
   "outputs": [
    {
     "data": {
      "text/plain": [
       "array([[1., 1., 1., 1.],\n",
       "       [1., 1., 1., 1.],\n",
       "       [1., 1., 1., 1.],\n",
       "       [1., 1., 1., 1.]])"
      ]
     },
     "execution_count": 23,
     "metadata": {},
     "output_type": "execute_result"
    }
   ],
   "source": [
    "#Tạo mảng 4x4 toàn số 1\n",
    "task_4 = np.ones((4,4))\n",
    "task_4"
   ]
  },
  {
   "cell_type": "code",
   "execution_count": 24,
   "id": "a5510878",
   "metadata": {},
   "outputs": [
    {
     "data": {
      "text/plain": [
       "array([[1., 0., 0.],\n",
       "       [0., 1., 0.],\n",
       "       [0., 0., 1.]])"
      ]
     },
     "execution_count": 24,
     "metadata": {},
     "output_type": "execute_result"
    }
   ],
   "source": [
    "#Tạo một mảng 3x3 với đường chéo chính là 1 và các phần tử khác là 0\n",
    "task_5 =np.eye(3)\n",
    "task_5"
   ]
  },
  {
   "cell_type": "markdown",
   "id": "4b60b915",
   "metadata": {},
   "source": [
    "## Thao tác cơ bản"
   ]
  },
  {
   "cell_type": "code",
   "execution_count": 25,
   "id": "8cbd268b",
   "metadata": {},
   "outputs": [
    {
     "data": {
      "text/plain": [
       "array([95, 41, 29, 34, 93, 77, 38, 31], dtype=int32)"
      ]
     },
     "execution_count": 25,
     "metadata": {},
     "output_type": "execute_result"
    }
   ],
   "source": [
    "#Tạo mảng 1D chứa 8 số ngẫu nhiên từ 10 đến 100.\n",
    "task_6 = np.random.randint(10,101,size=8)\n",
    "task_6"
   ]
  },
  {
   "cell_type": "code",
   "execution_count": null,
   "id": "d1df0491",
   "metadata": {},
   "outputs": [
    {
     "data": {
      "text/plain": [
       "array([34, 38], dtype=int32)"
      ]
     },
     "execution_count": 30,
     "metadata": {},
     "output_type": "execute_result"
    }
   ],
   "source": [
    "#In ra các phần tử ở vị trí chẵn\n",
    "task_6[task_6 % 2 == 0]"
   ]
  },
  {
   "cell_type": "markdown",
   "id": "ae988b4e",
   "metadata": {},
   "source": [
    "## Làm sạch mảng"
   ]
  },
  {
   "cell_type": "code",
   "execution_count": 36,
   "id": "71b02822",
   "metadata": {},
   "outputs": [
    {
     "data": {
      "text/plain": [
       "array([ 1.,  5., nan, 70., nan, 49., 93., 62., 42., 31.])"
      ]
     },
     "execution_count": 36,
     "metadata": {},
     "output_type": "execute_result"
    }
   ],
   "source": [
    "#Tạo mảng 1D với 10 số ngẫu nhiên, trong đó thêm 2 giá trị np.nan ngẫu nhiên.\n",
    "task_7 = np.random.randint(1,101,size=10).astype(float)\n",
    "nan_indices = np.random.choice(len(task_7),size=2,replace=False)\n",
    "task_7[nan_indices] = np.nan\n",
    "task_7"
   ]
  },
  {
   "cell_type": "code",
   "execution_count": 38,
   "id": "2ce8bbbf",
   "metadata": {},
   "outputs": [
    {
     "data": {
      "text/plain": [
       "array([ 1.,  5.,  0., 70.,  0., 49., 93., 62., 42., 31.])"
      ]
     },
     "execution_count": 38,
     "metadata": {},
     "output_type": "execute_result"
    }
   ],
   "source": [
    "#Thay các giá trị np.nan bằng 0.\n",
    "nan_index = np.isnan(task_7)\n",
    "task_7[nan_index] = 0\n",
    "task_7"
   ]
  }
 ],
 "metadata": {
  "kernelspec": {
   "display_name": "Python 3",
   "language": "python",
   "name": "python3"
  },
  "language_info": {
   "codemirror_mode": {
    "name": "ipython",
    "version": 3
   },
   "file_extension": ".py",
   "mimetype": "text/x-python",
   "name": "python",
   "nbconvert_exporter": "python",
   "pygments_lexer": "ipython3",
   "version": "3.12.1"
  }
 },
 "nbformat": 4,
 "nbformat_minor": 5
}
