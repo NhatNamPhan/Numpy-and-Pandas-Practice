{
 "cells": [
  {
   "cell_type": "code",
   "execution_count": 1,
   "id": "58955a82",
   "metadata": {},
   "outputs": [],
   "source": [
    "import numpy as np"
   ]
  },
  {
   "cell_type": "markdown",
   "id": "9b9ca6c5",
   "metadata": {},
   "source": [
    "## Phép toán cơ bản"
   ]
  },
  {
   "cell_type": "code",
   "execution_count": 3,
   "id": "12dfecf4",
   "metadata": {},
   "outputs": [],
   "source": [
    "#Tạo hai mảng 1D với 6 số ngẫu nhiên từ 1 đến 20.\n",
    "arr_1 = np.random.randint(1,21,size=6)\n",
    "arr_2 = np.random.randint(1,21,size=6)"
   ]
  },
  {
   "cell_type": "code",
   "execution_count": 17,
   "id": "a920312f",
   "metadata": {},
   "outputs": [
    {
     "name": "stdout",
     "output_type": "stream",
     "text": [
      "[ 7 24 23 25 18 29]\n",
      "[ -5  16  -7 -11 -14   7]\n",
      "[  6  80 120 126  32 198]\n",
      "[0.16666667 5.         0.53333333 0.38888889 0.125      1.63636364]\n"
     ]
    }
   ],
   "source": [
    "#Thực hiện các phép cộng, trừ, nhân, chia giữa hai mảng.\n",
    "print(arr_1 + arr_2)\n",
    "print(arr_1 - arr_2)\n",
    "print(arr_1 * arr_2)\n",
    "print(arr_1 / arr_2)"
   ]
  },
  {
   "cell_type": "markdown",
   "id": "c63f5bc1",
   "metadata": {},
   "source": [
    "## Hàm toán học"
   ]
  },
  {
   "cell_type": "code",
   "execution_count": 18,
   "id": "93b4a3d9",
   "metadata": {},
   "outputs": [
    {
     "data": {
      "text/plain": [
       "array([27, 15, 64, 89, 97, 80, 70, 73, 99, 34], dtype=int32)"
      ]
     },
     "execution_count": 18,
     "metadata": {},
     "output_type": "execute_result"
    }
   ],
   "source": [
    "#Tạo mảng 1D với 10 số ngẫu nhiên từ 1 đến 100.\n",
    "array = np.random.randint(1,101,size=10)\n",
    "array"
   ]
  },
  {
   "cell_type": "code",
   "execution_count": 19,
   "id": "af0234b1",
   "metadata": {},
   "outputs": [
    {
     "name": "stdout",
     "output_type": "stream",
     "text": [
      "648\n",
      "64.8\n",
      "99\n",
      "15\n",
      "28.24110479425336\n"
     ]
    }
   ],
   "source": [
    "#Tính tổng, trung bình, giá trị lớn nhất, nhỏ nhất và độ lệch chuẩn.\n",
    "print(array.sum())\n",
    "print(array.mean())\n",
    "print(array.max())\n",
    "print(array.min())\n",
    "print(array.std()) # độ lệch chuẩn/standard deviation"
   ]
  },
  {
   "cell_type": "markdown",
   "id": "dfc4d8cc",
   "metadata": {},
   "source": [
    "## Vector hóa"
   ]
  },
  {
   "cell_type": "code",
   "execution_count": 22,
   "id": "e1d09961",
   "metadata": {},
   "outputs": [
    {
     "data": {
      "text/plain": [
       "array([0, 1, 2, 3, 4])"
      ]
     },
     "execution_count": 22,
     "metadata": {},
     "output_type": "execute_result"
    }
   ],
   "source": [
    "#Tạo mảng 1D chứa 5 số ngẫu nhiên\n",
    "array_vt = np.arange(5)\n",
    "array_vt"
   ]
  },
  {
   "cell_type": "code",
   "execution_count": 23,
   "id": "d0c37882",
   "metadata": {},
   "outputs": [
    {
     "data": {
      "text/plain": [
       "array([ 0,  1,  4,  9, 16])"
      ]
     },
     "execution_count": 23,
     "metadata": {},
     "output_type": "execute_result"
    }
   ],
   "source": [
    "#Tính bình phương của mảng mà không dùng vòng lặp\n",
    "array_squared = np.square(array_vt)\n",
    "array_squared"
   ]
  },
  {
   "cell_type": "markdown",
   "id": "7dadcdb2",
   "metadata": {},
   "source": [
    "## Tính toán trên mảng 2D"
   ]
  },
  {
   "cell_type": "code",
   "execution_count": 26,
   "id": "437286d7",
   "metadata": {},
   "outputs": [
    {
     "data": {
      "text/plain": [
       "array([[ 1,  2,  3],\n",
       "       [ 4,  5,  6],\n",
       "       [ 7,  8,  9],\n",
       "       [10, 11, 12]])"
      ]
     },
     "execution_count": 26,
     "metadata": {},
     "output_type": "execute_result"
    }
   ],
   "source": [
    "#Tạo mảng 2D 4x3 với các giá trị từ 1 đến 12\n",
    "arr_3 = np.arange(1,13).reshape(4,3)\n",
    "arr_3"
   ]
  },
  {
   "cell_type": "code",
   "execution_count": 30,
   "id": "573c56ec",
   "metadata": {},
   "outputs": [
    {
     "name": "stdout",
     "output_type": "stream",
     "text": [
      "[22 26 30]\n",
      "[ 6 15 24 33]\n",
      "78\n"
     ]
    }
   ],
   "source": [
    "#Tính tổng theo hàng, tổng theo cột, và tổng toàn bộ mảng\n",
    "print(np.sum(arr_3,axis=0))\n",
    "print(np.sum(arr_3,axis=1))\n",
    "print(arr_3.sum())"
   ]
  },
  {
   "cell_type": "markdown",
   "id": "62c89dbc",
   "metadata": {},
   "source": [
    "## Làm sạch dữ liệu\n"
   ]
  },
  {
   "cell_type": "code",
   "execution_count": 38,
   "id": "151c5f4a",
   "metadata": {},
   "outputs": [
    {
     "data": {
      "text/plain": [
       "array([[92., 78., nan, 31., 73.],\n",
       "       [nan, 93., 17., nan, 17.],\n",
       "       [76., 38., 80., 38., 37.],\n",
       "       [80., 30., 71., 87., 13.],\n",
       "       [71., 43., 78., 78., 14.]])"
      ]
     },
     "execution_count": 38,
     "metadata": {},
     "output_type": "execute_result"
    }
   ],
   "source": [
    "#Tạo mảng 2D 5x5 với các giá trị ngẫu nhiên từ 1 đến 100, thêm 3 giá trị np.nan ngẫu nhiên.\n",
    "arr_4 = np.random.randint(1,101,size=(5,5)).astype(float)\n",
    "flat_indices = np.random.choice(arr_4.size,size=3,replace=False)\n",
    "rows, cols = np.unravel_index(flat_indices, arr_4.shape)\n",
    "arr_4[rows, cols] = np.nan\n",
    "arr_4"
   ]
  },
  {
   "cell_type": "code",
   "execution_count": 43,
   "id": "7fb86e2d",
   "metadata": {},
   "outputs": [
    {
     "data": {
      "text/plain": [
       "array([[92.  , 78.  , 61.5 , 31.  , 73.  ],\n",
       "       [79.75, 93.  , 17.  , 58.5 , 17.  ],\n",
       "       [76.  , 38.  , 80.  , 38.  , 37.  ],\n",
       "       [80.  , 30.  , 71.  , 87.  , 13.  ],\n",
       "       [71.  , 43.  , 78.  , 78.  , 14.  ]])"
      ]
     },
     "execution_count": 43,
     "metadata": {},
     "output_type": "execute_result"
    }
   ],
   "source": [
    "#Thay np.nan bằng giá trị trung bình của cột tương ứng.\n",
    "col_mean = np.nanmean(arr_4,axis=0)\n",
    "inds = np.where(np.isnan(arr_4))\n",
    "arr_4[inds] = np.take(col_mean,inds[1])\n",
    "arr_4"
   ]
  }
 ],
 "metadata": {
  "kernelspec": {
   "display_name": "Python 3",
   "language": "python",
   "name": "python3"
  },
  "language_info": {
   "codemirror_mode": {
    "name": "ipython",
    "version": 3
   },
   "file_extension": ".py",
   "mimetype": "text/x-python",
   "name": "python",
   "nbconvert_exporter": "python",
   "pygments_lexer": "ipython3",
   "version": "3.12.1"
  }
 },
 "nbformat": 4,
 "nbformat_minor": 5
}
