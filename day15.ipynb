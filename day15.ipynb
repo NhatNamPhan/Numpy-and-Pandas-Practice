{
 "cells": [
  {
   "cell_type": "code",
   "execution_count": 1,
   "id": "663a3d04",
   "metadata": {},
   "outputs": [],
   "source": [
    "import pandas as pd\n",
    "import numpy as np"
   ]
  },
  {
   "cell_type": "markdown",
   "id": "d063515e",
   "metadata": {},
   "source": [
    "## Lọc dữ liệu"
   ]
  },
  {
   "cell_type": "code",
   "execution_count": 2,
   "id": "dfbf5894",
   "metadata": {},
   "outputs": [
    {
     "data": {
      "text/html": [
       "<div>\n",
       "<style scoped>\n",
       "    .dataframe tbody tr th:only-of-type {\n",
       "        vertical-align: middle;\n",
       "    }\n",
       "\n",
       "    .dataframe tbody tr th {\n",
       "        vertical-align: top;\n",
       "    }\n",
       "\n",
       "    .dataframe thead th {\n",
       "        text-align: right;\n",
       "    }\n",
       "</style>\n",
       "<table border=\"1\" class=\"dataframe\">\n",
       "  <thead>\n",
       "    <tr style=\"text-align: right;\">\n",
       "      <th></th>\n",
       "      <th>Name</th>\n",
       "      <th>Score</th>\n",
       "      <th>Class</th>\n",
       "    </tr>\n",
       "  </thead>\n",
       "  <tbody>\n",
       "    <tr>\n",
       "      <th>0</th>\n",
       "      <td>Nam</td>\n",
       "      <td>10</td>\n",
       "      <td>22T3</td>\n",
       "    </tr>\n",
       "    <tr>\n",
       "      <th>1</th>\n",
       "      <td>Tom</td>\n",
       "      <td>9</td>\n",
       "      <td>21C1</td>\n",
       "    </tr>\n",
       "    <tr>\n",
       "      <th>3</th>\n",
       "      <td>Anh</td>\n",
       "      <td>10</td>\n",
       "      <td>22ST1</td>\n",
       "    </tr>\n",
       "  </tbody>\n",
       "</table>\n",
       "</div>"
      ],
      "text/plain": [
       "  Name  Score  Class\n",
       "0  Nam     10   22T3\n",
       "1  Tom      9   21C1\n",
       "3  Anh     10  22ST1"
      ]
     },
     "execution_count": 2,
     "metadata": {},
     "output_type": "execute_result"
    }
   ],
   "source": [
    "#Tạo DataFrame với 6 hàng (tên, điểm, lớp) và lọc các học sinh có điểm >= 8.5\n",
    "df = pd.DataFrame({\n",
    "    \"Name\": [\"Nam\", \"Tom\", \"Lucy\", \"Anh\", \"Julia\", \"Rose\"],\n",
    "    \"Score\": [10, 9, 8, 10, 5, 3],\n",
    "    \"Class\": [\"22T3\", \"21C1\", \"22T1\", \"22ST1\", \"23P1\", \"20K3\"]\n",
    "})\n",
    "df.loc[df['Score']>8.5]"
   ]
  },
  {
   "cell_type": "markdown",
   "id": "444c1b42",
   "metadata": {},
   "source": [
    "## Xử lý giá trị thiếu"
   ]
  },
  {
   "cell_type": "code",
   "execution_count": 3,
   "id": "30f7244c",
   "metadata": {},
   "outputs": [],
   "source": [
    "#Tạo DataFrame với 5 hàng, 3 cột (tên, tuổi, điểm), thêm 3 giá trị NaN ngẫu nhiên\n",
    "df_1 = pd.DataFrame({\n",
    "    \"name\": [\"nam\", \"tâm\", \"hải\", \"dũng\", \"an\"],\n",
    "    \"age\": [20, 25, 30, 35, 40],\n",
    "    \"score\": [3, 5, 10, 4, 8]\n",
    "})\n",
    "nan_indices = np.random.choice(df_1.index,size=3,replace=False)\n",
    "df_1.loc[nan_indices, \"score\"] = np.nan"
   ]
  },
  {
   "cell_type": "code",
   "execution_count": 4,
   "id": "c40f213b",
   "metadata": {},
   "outputs": [],
   "source": [
    "#Thay NaN bằng giá trị trung bình của cột hoặc xóa hàng chứa NaN\n",
    "df_1.loc[nan_indices, \"score\"] = np.nanmean(df_1['score'],axis=0)"
   ]
  },
  {
   "cell_type": "markdown",
   "id": "ee67569e",
   "metadata": {},
   "source": [
    "## Chuẩn hóa chuỗi"
   ]
  },
  {
   "cell_type": "code",
   "execution_count": 5,
   "id": "e9d431de",
   "metadata": {},
   "outputs": [],
   "source": [
    "#Tạo cột 'tên' với các giá trị có khoảng trắng thừa (ví dụ: \"An  \", \"  Bình\")\n",
    "df_1['Tên'] = df_1['name'] + \" \""
   ]
  },
  {
   "cell_type": "code",
   "execution_count": 6,
   "id": "ebe5224d",
   "metadata": {},
   "outputs": [
    {
     "data": {
      "text/html": [
       "<div>\n",
       "<style scoped>\n",
       "    .dataframe tbody tr th:only-of-type {\n",
       "        vertical-align: middle;\n",
       "    }\n",
       "\n",
       "    .dataframe tbody tr th {\n",
       "        vertical-align: top;\n",
       "    }\n",
       "\n",
       "    .dataframe thead th {\n",
       "        text-align: right;\n",
       "    }\n",
       "</style>\n",
       "<table border=\"1\" class=\"dataframe\">\n",
       "  <thead>\n",
       "    <tr style=\"text-align: right;\">\n",
       "      <th></th>\n",
       "      <th>name</th>\n",
       "      <th>age</th>\n",
       "      <th>score</th>\n",
       "      <th>Tên</th>\n",
       "    </tr>\n",
       "  </thead>\n",
       "  <tbody>\n",
       "    <tr>\n",
       "      <th>0</th>\n",
       "      <td>nam</td>\n",
       "      <td>20</td>\n",
       "      <td>6.0</td>\n",
       "      <td>nam</td>\n",
       "    </tr>\n",
       "    <tr>\n",
       "      <th>1</th>\n",
       "      <td>tâm</td>\n",
       "      <td>25</td>\n",
       "      <td>6.0</td>\n",
       "      <td>tâm</td>\n",
       "    </tr>\n",
       "    <tr>\n",
       "      <th>2</th>\n",
       "      <td>hải</td>\n",
       "      <td>30</td>\n",
       "      <td>6.0</td>\n",
       "      <td>hải</td>\n",
       "    </tr>\n",
       "    <tr>\n",
       "      <th>3</th>\n",
       "      <td>dũng</td>\n",
       "      <td>35</td>\n",
       "      <td>4.0</td>\n",
       "      <td>dũng</td>\n",
       "    </tr>\n",
       "    <tr>\n",
       "      <th>4</th>\n",
       "      <td>an</td>\n",
       "      <td>40</td>\n",
       "      <td>8.0</td>\n",
       "      <td>an</td>\n",
       "    </tr>\n",
       "  </tbody>\n",
       "</table>\n",
       "</div>"
      ],
      "text/plain": [
       "   name  age  score    Tên\n",
       "0   nam   20    6.0   nam \n",
       "1   tâm   25    6.0   tâm \n",
       "2   hải   30    6.0   hải \n",
       "3  dũng   35    4.0  dũng \n",
       "4    an   40    8.0    an "
      ]
     },
     "execution_count": 6,
     "metadata": {},
     "output_type": "execute_result"
    }
   ],
   "source": [
    "df_1"
   ]
  },
  {
   "cell_type": "code",
   "execution_count": 7,
   "id": "67e3b225",
   "metadata": {},
   "outputs": [],
   "source": [
    "#Loại bỏ khoảng trắng thừa và viết hoa chữ cái đầu\n",
    "df_1['Tên'] = df_1['Tên'].str.strip()\n",
    "df_1['Tên'] = df_1['Tên'].str.capitalize()"
   ]
  },
  {
   "cell_type": "code",
   "execution_count": 8,
   "id": "a16457a2",
   "metadata": {},
   "outputs": [
    {
     "data": {
      "text/html": [
       "<div>\n",
       "<style scoped>\n",
       "    .dataframe tbody tr th:only-of-type {\n",
       "        vertical-align: middle;\n",
       "    }\n",
       "\n",
       "    .dataframe tbody tr th {\n",
       "        vertical-align: top;\n",
       "    }\n",
       "\n",
       "    .dataframe thead th {\n",
       "        text-align: right;\n",
       "    }\n",
       "</style>\n",
       "<table border=\"1\" class=\"dataframe\">\n",
       "  <thead>\n",
       "    <tr style=\"text-align: right;\">\n",
       "      <th></th>\n",
       "      <th>name</th>\n",
       "      <th>age</th>\n",
       "      <th>score</th>\n",
       "      <th>Tên</th>\n",
       "    </tr>\n",
       "  </thead>\n",
       "  <tbody>\n",
       "    <tr>\n",
       "      <th>0</th>\n",
       "      <td>nam</td>\n",
       "      <td>20</td>\n",
       "      <td>6.0</td>\n",
       "      <td>Nam</td>\n",
       "    </tr>\n",
       "    <tr>\n",
       "      <th>1</th>\n",
       "      <td>tâm</td>\n",
       "      <td>25</td>\n",
       "      <td>6.0</td>\n",
       "      <td>Tâm</td>\n",
       "    </tr>\n",
       "    <tr>\n",
       "      <th>2</th>\n",
       "      <td>hải</td>\n",
       "      <td>30</td>\n",
       "      <td>6.0</td>\n",
       "      <td>Hải</td>\n",
       "    </tr>\n",
       "    <tr>\n",
       "      <th>3</th>\n",
       "      <td>dũng</td>\n",
       "      <td>35</td>\n",
       "      <td>4.0</td>\n",
       "      <td>Dũng</td>\n",
       "    </tr>\n",
       "    <tr>\n",
       "      <th>4</th>\n",
       "      <td>an</td>\n",
       "      <td>40</td>\n",
       "      <td>8.0</td>\n",
       "      <td>An</td>\n",
       "    </tr>\n",
       "  </tbody>\n",
       "</table>\n",
       "</div>"
      ],
      "text/plain": [
       "   name  age  score   Tên\n",
       "0   nam   20    6.0   Nam\n",
       "1   tâm   25    6.0   Tâm\n",
       "2   hải   30    6.0   Hải\n",
       "3  dũng   35    4.0  Dũng\n",
       "4    an   40    8.0    An"
      ]
     },
     "execution_count": 8,
     "metadata": {},
     "output_type": "execute_result"
    }
   ],
   "source": [
    "df_1"
   ]
  },
  {
   "cell_type": "markdown",
   "id": "45967d26",
   "metadata": {},
   "source": [
    "## Thêm cột điều kiện"
   ]
  },
  {
   "cell_type": "code",
   "execution_count": 9,
   "id": "aa152a29",
   "metadata": {},
   "outputs": [],
   "source": [
    "df[\"Status\"] = ['Pass' if x >= 8 else 'Fail' for x in df['Score']]"
   ]
  },
  {
   "cell_type": "markdown",
   "id": "a7bf4516",
   "metadata": {},
   "source": [
    "## Xử lý định dạng sai"
   ]
  },
  {
   "cell_type": "code",
   "execution_count": 10,
   "id": "be8e4fec",
   "metadata": {},
   "outputs": [],
   "source": [
    "#Tạo cột 'ngày sinh' với định dạng không đồng nhất (ví dụ: \"2023-01-01\", \"01/02/2023\")\n",
    "df['BirthDay'] = [\"2003-01-01\", \"01/02/2023\", \"2004-28-08\", \"28/09/2004\", \"2005-05-05\", \"24/04/2004\"]"
   ]
  },
  {
   "cell_type": "code",
   "execution_count": 11,
   "id": "b7a264ee",
   "metadata": {},
   "outputs": [
    {
     "data": {
      "text/html": [
       "<div>\n",
       "<style scoped>\n",
       "    .dataframe tbody tr th:only-of-type {\n",
       "        vertical-align: middle;\n",
       "    }\n",
       "\n",
       "    .dataframe tbody tr th {\n",
       "        vertical-align: top;\n",
       "    }\n",
       "\n",
       "    .dataframe thead th {\n",
       "        text-align: right;\n",
       "    }\n",
       "</style>\n",
       "<table border=\"1\" class=\"dataframe\">\n",
       "  <thead>\n",
       "    <tr style=\"text-align: right;\">\n",
       "      <th></th>\n",
       "      <th>Name</th>\n",
       "      <th>Score</th>\n",
       "      <th>Class</th>\n",
       "      <th>Status</th>\n",
       "      <th>BirthDay</th>\n",
       "    </tr>\n",
       "  </thead>\n",
       "  <tbody>\n",
       "    <tr>\n",
       "      <th>0</th>\n",
       "      <td>Nam</td>\n",
       "      <td>10</td>\n",
       "      <td>22T3</td>\n",
       "      <td>Pass</td>\n",
       "      <td>2003-01-01</td>\n",
       "    </tr>\n",
       "    <tr>\n",
       "      <th>1</th>\n",
       "      <td>Tom</td>\n",
       "      <td>9</td>\n",
       "      <td>21C1</td>\n",
       "      <td>Pass</td>\n",
       "      <td>01/02/2023</td>\n",
       "    </tr>\n",
       "    <tr>\n",
       "      <th>2</th>\n",
       "      <td>Lucy</td>\n",
       "      <td>8</td>\n",
       "      <td>22T1</td>\n",
       "      <td>Pass</td>\n",
       "      <td>2004-28-08</td>\n",
       "    </tr>\n",
       "    <tr>\n",
       "      <th>3</th>\n",
       "      <td>Anh</td>\n",
       "      <td>10</td>\n",
       "      <td>22ST1</td>\n",
       "      <td>Pass</td>\n",
       "      <td>28/09/2004</td>\n",
       "    </tr>\n",
       "    <tr>\n",
       "      <th>4</th>\n",
       "      <td>Julia</td>\n",
       "      <td>5</td>\n",
       "      <td>23P1</td>\n",
       "      <td>Fail</td>\n",
       "      <td>2005-05-05</td>\n",
       "    </tr>\n",
       "    <tr>\n",
       "      <th>5</th>\n",
       "      <td>Rose</td>\n",
       "      <td>3</td>\n",
       "      <td>20K3</td>\n",
       "      <td>Fail</td>\n",
       "      <td>24/04/2004</td>\n",
       "    </tr>\n",
       "  </tbody>\n",
       "</table>\n",
       "</div>"
      ],
      "text/plain": [
       "    Name  Score  Class Status    BirthDay\n",
       "0    Nam     10   22T3   Pass  2003-01-01\n",
       "1    Tom      9   21C1   Pass  01/02/2023\n",
       "2   Lucy      8   22T1   Pass  2004-28-08\n",
       "3    Anh     10  22ST1   Pass  28/09/2004\n",
       "4  Julia      5   23P1   Fail  2005-05-05\n",
       "5   Rose      3   20K3   Fail  24/04/2004"
      ]
     },
     "execution_count": 11,
     "metadata": {},
     "output_type": "execute_result"
    }
   ],
   "source": [
    "df"
   ]
  },
  {
   "cell_type": "code",
   "execution_count": null,
   "id": "799d7e05",
   "metadata": {},
   "outputs": [],
   "source": [
    "#Chuẩn hóa thành định dạng datetime\n",
    "df['BirthDay'] = pd.to_datetime(df['BirthDay'], errors='coerce', dayfirst=True)"
   ]
  },
  {
   "cell_type": "code",
   "execution_count": 13,
   "id": "8884f3d9",
   "metadata": {},
   "outputs": [
    {
     "data": {
      "text/html": [
       "<div>\n",
       "<style scoped>\n",
       "    .dataframe tbody tr th:only-of-type {\n",
       "        vertical-align: middle;\n",
       "    }\n",
       "\n",
       "    .dataframe tbody tr th {\n",
       "        vertical-align: top;\n",
       "    }\n",
       "\n",
       "    .dataframe thead th {\n",
       "        text-align: right;\n",
       "    }\n",
       "</style>\n",
       "<table border=\"1\" class=\"dataframe\">\n",
       "  <thead>\n",
       "    <tr style=\"text-align: right;\">\n",
       "      <th></th>\n",
       "      <th>Name</th>\n",
       "      <th>Score</th>\n",
       "      <th>Class</th>\n",
       "      <th>Status</th>\n",
       "      <th>BirthDay</th>\n",
       "    </tr>\n",
       "  </thead>\n",
       "  <tbody>\n",
       "    <tr>\n",
       "      <th>0</th>\n",
       "      <td>Nam</td>\n",
       "      <td>10</td>\n",
       "      <td>22T3</td>\n",
       "      <td>Pass</td>\n",
       "      <td>2003-01-01</td>\n",
       "    </tr>\n",
       "    <tr>\n",
       "      <th>1</th>\n",
       "      <td>Tom</td>\n",
       "      <td>9</td>\n",
       "      <td>21C1</td>\n",
       "      <td>Pass</td>\n",
       "      <td>NaT</td>\n",
       "    </tr>\n",
       "    <tr>\n",
       "      <th>2</th>\n",
       "      <td>Lucy</td>\n",
       "      <td>8</td>\n",
       "      <td>22T1</td>\n",
       "      <td>Pass</td>\n",
       "      <td>2004-08-28</td>\n",
       "    </tr>\n",
       "    <tr>\n",
       "      <th>3</th>\n",
       "      <td>Anh</td>\n",
       "      <td>10</td>\n",
       "      <td>22ST1</td>\n",
       "      <td>Pass</td>\n",
       "      <td>NaT</td>\n",
       "    </tr>\n",
       "    <tr>\n",
       "      <th>4</th>\n",
       "      <td>Julia</td>\n",
       "      <td>5</td>\n",
       "      <td>23P1</td>\n",
       "      <td>Fail</td>\n",
       "      <td>2005-05-05</td>\n",
       "    </tr>\n",
       "    <tr>\n",
       "      <th>5</th>\n",
       "      <td>Rose</td>\n",
       "      <td>3</td>\n",
       "      <td>20K3</td>\n",
       "      <td>Fail</td>\n",
       "      <td>NaT</td>\n",
       "    </tr>\n",
       "  </tbody>\n",
       "</table>\n",
       "</div>"
      ],
      "text/plain": [
       "    Name  Score  Class Status   BirthDay\n",
       "0    Nam     10   22T3   Pass 2003-01-01\n",
       "1    Tom      9   21C1   Pass        NaT\n",
       "2   Lucy      8   22T1   Pass 2004-08-28\n",
       "3    Anh     10  22ST1   Pass        NaT\n",
       "4  Julia      5   23P1   Fail 2005-05-05\n",
       "5   Rose      3   20K3   Fail        NaT"
      ]
     },
     "execution_count": 13,
     "metadata": {},
     "output_type": "execute_result"
    }
   ],
   "source": [
    "df"
   ]
  }
 ],
 "metadata": {
  "kernelspec": {
   "display_name": "Python 3",
   "language": "python",
   "name": "python3"
  },
  "language_info": {
   "codemirror_mode": {
    "name": "ipython",
    "version": 3
   },
   "file_extension": ".py",
   "mimetype": "text/x-python",
   "name": "python",
   "nbconvert_exporter": "python",
   "pygments_lexer": "ipython3",
   "version": "3.12.1"
  }
 },
 "nbformat": 4,
 "nbformat_minor": 5
}
