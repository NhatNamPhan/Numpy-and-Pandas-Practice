{
 "cells": [
  {
   "cell_type": "code",
   "execution_count": 2,
   "id": "02965804",
   "metadata": {},
   "outputs": [],
   "source": [
    "import numpy as np"
   ]
  },
  {
   "cell_type": "code",
   "execution_count": 7,
   "id": "baada0a6",
   "metadata": {},
   "outputs": [],
   "source": [
    "np.random.seed(0)"
   ]
  },
  {
   "cell_type": "code",
   "execution_count": 8,
   "id": "4641f706",
   "metadata": {},
   "outputs": [],
   "source": [
    "#Tạo hai mảng 1D với 5 phần tử ngẫu nhiên từ 1 đến 10.\n",
    "arr1 = np.random.randint(1,11,size=5)\n",
    "arr2 = np.random.randint(1,11,size=5)"
   ]
  },
  {
   "cell_type": "code",
   "execution_count": 10,
   "id": "7218df39",
   "metadata": {},
   "outputs": [
    {
     "data": {
      "text/plain": [
       "array([6, 1, 4, 4, 8], dtype=int32)"
      ]
     },
     "execution_count": 10,
     "metadata": {},
     "output_type": "execute_result"
    }
   ],
   "source": [
    "arr1"
   ]
  },
  {
   "cell_type": "code",
   "execution_count": null,
   "id": "afbdd4e0",
   "metadata": {},
   "outputs": [
    {
     "data": {
      "text/plain": [
       "array([10,  4,  6,  3,  5], dtype=int32)"
      ]
     },
     "execution_count": 9,
     "metadata": {},
     "output_type": "execute_result"
    }
   ],
   "source": [
    "arr2"
   ]
  },
  {
   "cell_type": "code",
   "execution_count": 13,
   "id": "c777f6f8",
   "metadata": {},
   "outputs": [
    {
     "name": "stdout",
     "output_type": "stream",
     "text": [
      "[16  5 10  7 13]\n",
      "[-4 -3 -2  1  3]\n",
      "[60  4 24 12 40]\n"
     ]
    }
   ],
   "source": [
    "#Thực hiện các phép cộng, trừ, nhân hai mảng này.\n",
    "print(arr1+arr2)\n",
    "print(arr1-arr2)\n",
    "print(arr1*arr2)"
   ]
  },
  {
   "cell_type": "code",
   "execution_count": 18,
   "id": "b24de93c",
   "metadata": {},
   "outputs": [
    {
     "name": "stdout",
     "output_type": "stream",
     "text": [
      "23\n",
      "4.6\n",
      "8\n",
      "1\n"
     ]
    }
   ],
   "source": [
    "#Tính tổng, trung bình, giá trị lớn nhất và nhỏ nhất của mảng thứ nhất.\n",
    "print(arr1.sum())\n",
    "print(arr1.mean())\n",
    "print(arr1.max())\n",
    "print(arr1.min())"
   ]
  },
  {
   "cell_type": "code",
   "execution_count": 22,
   "id": "a8743883",
   "metadata": {},
   "outputs": [
    {
     "data": {
      "text/plain": [
       "array([[ 6,  1,  4,  4],\n",
       "       [ 8, 10,  4,  6],\n",
       "       [ 3,  5,  8,  7],\n",
       "       [ 9,  9,  2,  7]], dtype=int32)"
      ]
     },
     "execution_count": 22,
     "metadata": {},
     "output_type": "execute_result"
    }
   ],
   "source": [
    "#Tạo một mảng 2D 4x4 và tính tổng theo hàng và cột.\n",
    "np.random.seed(0)\n",
    "arr3 = np.random.randint(1,11,size=(4,4))\n",
    "arr3"
   ]
  },
  {
   "cell_type": "code",
   "execution_count": 23,
   "id": "e47b90ef",
   "metadata": {},
   "outputs": [
    {
     "data": {
      "text/plain": [
       "array([15, 28, 23, 27])"
      ]
     },
     "execution_count": 23,
     "metadata": {},
     "output_type": "execute_result"
    }
   ],
   "source": [
    "row_sum = np.sum(arr3,axis=1)\n",
    "row_sum"
   ]
  },
  {
   "cell_type": "code",
   "execution_count": 24,
   "id": "2e5096e6",
   "metadata": {},
   "outputs": [
    {
     "data": {
      "text/plain": [
       "array([26, 25, 18, 24])"
      ]
     },
     "execution_count": 24,
     "metadata": {},
     "output_type": "execute_result"
    }
   ],
   "source": [
    "col_sum = np.sum(arr3,axis=0)\n",
    "col_sum"
   ]
  }
 ],
 "metadata": {
  "kernelspec": {
   "display_name": "Python 3",
   "language": "python",
   "name": "python3"
  },
  "language_info": {
   "codemirror_mode": {
    "name": "ipython",
    "version": 3
   },
   "file_extension": ".py",
   "mimetype": "text/x-python",
   "name": "python",
   "nbconvert_exporter": "python",
   "pygments_lexer": "ipython3",
   "version": "3.12.1"
  }
 },
 "nbformat": 4,
 "nbformat_minor": 5
}
