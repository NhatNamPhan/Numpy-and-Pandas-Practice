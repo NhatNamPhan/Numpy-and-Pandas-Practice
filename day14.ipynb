{
 "cells": [
  {
   "cell_type": "code",
   "execution_count": 1,
   "id": "31a2bf83",
   "metadata": {},
   "outputs": [],
   "source": [
    "import pandas as pd\n",
    "import numpy as np"
   ]
  },
  {
   "cell_type": "markdown",
   "id": "2a2df117",
   "metadata": {},
   "source": [
    "## Tạo Series"
   ]
  },
  {
   "cell_type": "code",
   "execution_count": 2,
   "id": "3954e4ba",
   "metadata": {},
   "outputs": [
    {
     "data": {
      "text/plain": [
       "Nam       80\n",
       "Tâm       90\n",
       "Huy       85\n",
       "Hoàng    100\n",
       "Anh       50\n",
       "dtype: int64"
      ]
     },
     "execution_count": 2,
     "metadata": {},
     "output_type": "execute_result"
    }
   ],
   "source": [
    "#Tạo một Series từ danh sách 5 tên sinh viên và điểm số (80, 85, 90, 75, 88)\n",
    "series = pd.Series([80, 90, 85, 100, 50], index=[\"Nam\",\"Tâm\",\"Huy\",\"Hoàng\",\"Anh\"])\n",
    "series"
   ]
  },
  {
   "cell_type": "code",
   "execution_count": 3,
   "id": "f7d6736e",
   "metadata": {},
   "outputs": [
    {
     "name": "stderr",
     "output_type": "stream",
     "text": [
      "C:\\Users\\Nhat Nam\\AppData\\Local\\Temp\\ipykernel_15032\\2522577365.py:2: FutureWarning: Series.__getitem__ treating keys as positions is deprecated. In a future version, integer keys will always be treated as labels (consistent with DataFrame behavior). To access a value by position, use `ser.iloc[pos]`\n",
      "  series[2]\n"
     ]
    },
    {
     "data": {
      "text/plain": [
       "np.int64(85)"
      ]
     },
     "execution_count": 3,
     "metadata": {},
     "output_type": "execute_result"
    }
   ],
   "source": [
    "#In ra Series và truy cập điểm của sinh viên thứ 3\n",
    "series[2]"
   ]
  },
  {
   "cell_type": "markdown",
   "id": "a9402f1f",
   "metadata": {},
   "source": [
    "## Tạo DataFrame"
   ]
  },
  {
   "cell_type": "code",
   "execution_count": 4,
   "id": "5c76e555",
   "metadata": {},
   "outputs": [
    {
     "data": {
      "text/html": [
       "<div>\n",
       "<style scoped>\n",
       "    .dataframe tbody tr th:only-of-type {\n",
       "        vertical-align: middle;\n",
       "    }\n",
       "\n",
       "    .dataframe tbody tr th {\n",
       "        vertical-align: top;\n",
       "    }\n",
       "\n",
       "    .dataframe thead th {\n",
       "        text-align: right;\n",
       "    }\n",
       "</style>\n",
       "<table border=\"1\" class=\"dataframe\">\n",
       "  <thead>\n",
       "    <tr style=\"text-align: right;\">\n",
       "      <th></th>\n",
       "      <th>Name</th>\n",
       "      <th>Age</th>\n",
       "      <th>Math_Score</th>\n",
       "    </tr>\n",
       "  </thead>\n",
       "  <tbody>\n",
       "    <tr>\n",
       "      <th>0</th>\n",
       "      <td>Nam</td>\n",
       "      <td>21</td>\n",
       "      <td>8</td>\n",
       "    </tr>\n",
       "    <tr>\n",
       "      <th>1</th>\n",
       "      <td>Tom</td>\n",
       "      <td>30</td>\n",
       "      <td>10</td>\n",
       "    </tr>\n",
       "    <tr>\n",
       "      <th>2</th>\n",
       "      <td>Lucas</td>\n",
       "      <td>19</td>\n",
       "      <td>10</td>\n",
       "    </tr>\n",
       "    <tr>\n",
       "      <th>3</th>\n",
       "      <td>Lucy</td>\n",
       "      <td>17</td>\n",
       "      <td>9</td>\n",
       "    </tr>\n",
       "    <tr>\n",
       "      <th>4</th>\n",
       "      <td>Su</td>\n",
       "      <td>31</td>\n",
       "      <td>2</td>\n",
       "    </tr>\n",
       "  </tbody>\n",
       "</table>\n",
       "</div>"
      ],
      "text/plain": [
       "    Name  Age  Math_Score\n",
       "0    Nam   21           8\n",
       "1    Tom   30          10\n",
       "2  Lucas   19          10\n",
       "3   Lucy   17           9\n",
       "4     Su   31           2"
      ]
     },
     "execution_count": 4,
     "metadata": {},
     "output_type": "execute_result"
    }
   ],
   "source": [
    "#Tạo một DataFrame từ từ điển chứa thông tin: tên, tuổi, điểm toán của 5 học sinh\n",
    "data = {\n",
    "    \"Name\": [\"Nam\",\"Tom\",\"Lucas\",\"Lucy\",\"Su\"],\n",
    "    \"Age\": [21, 30, 19, 17, 31],\n",
    "    \"Math_Score\": [8, 10, 10, 9, 2]\n",
    "}\n",
    "df = pd.DataFrame(data)\n",
    "df"
   ]
  },
  {
   "cell_type": "code",
   "execution_count": 5,
   "id": "22117441",
   "metadata": {},
   "outputs": [
    {
     "data": {
      "text/plain": [
       "0      Nam\n",
       "1      Tom\n",
       "2    Lucas\n",
       "3     Lucy\n",
       "4       Su\n",
       "Name: Name, dtype: object"
      ]
     },
     "execution_count": 5,
     "metadata": {},
     "output_type": "execute_result"
    }
   ],
   "source": [
    "df[\"Name\"]"
   ]
  },
  {
   "cell_type": "markdown",
   "id": "a9219de7",
   "metadata": {},
   "source": [
    "## Thêm cột mới"
   ]
  },
  {
   "cell_type": "code",
   "execution_count": 6,
   "id": "8f814577",
   "metadata": {},
   "outputs": [],
   "source": [
    "#Từ DataFrame ở bài 2, thêm cột 'điểm văn' với giá trị ngẫu nhiên từ 1 đến 10\n",
    "df[\"Literature_score\"] = np.random.randint(1,11,size=5)"
   ]
  },
  {
   "cell_type": "markdown",
   "id": "89e6ea7d",
   "metadata": {},
   "source": [
    "## Làm sạch dữ liệu"
   ]
  },
  {
   "cell_type": "code",
   "execution_count": 18,
   "id": "8e6f613d",
   "metadata": {},
   "outputs": [],
   "source": [
    "#Tạo một DataFrame với 5 hàng, thêm 2 giá trị NaN ngẫu nhiên vào cột tuổi\n",
    "df_1 = pd.DataFrame({\n",
    "    \"name\": [\"A\", \"B\", \"C\", \"D\", \"E\"],\n",
    "    \"age\": [20, 25, 30, 35, 40]\n",
    "})\n",
    "nan_indices = np.random.choice(df_1.index,size=2,replace=False)\n",
    "df_1.loc[nan_indices,\"age\"] = np.nan"
   ]
  },
  {
   "cell_type": "code",
   "execution_count": 19,
   "id": "99945d88",
   "metadata": {},
   "outputs": [],
   "source": [
    "#Thay NaN bằng giá trị trung bình của cột tuổi\n",
    "value_mean = np.nanmean(df_1['age'],axis=0)\n",
    "df_1.loc[nan_indices,\"age\"] = value_mean"
   ]
  },
  {
   "cell_type": "markdown",
   "id": "704a56b8",
   "metadata": {},
   "source": [
    "## Truy cập dữ liệu"
   ]
  },
  {
   "cell_type": "code",
   "execution_count": null,
   "id": "cad31ea5",
   "metadata": {},
   "outputs": [
    {
     "data": {
      "text/plain": [
       "Name                Tom\n",
       "Age                  30\n",
       "Math_Score           10\n",
       "Literature_score      9\n",
       "Name: 1, dtype: object"
      ]
     },
     "execution_count": 22,
     "metadata": {},
     "output_type": "execute_result"
    }
   ],
   "source": [
    "#Từ df, truy cập hàng thứ 2 bằng loc và iloc\n",
    "df.iloc[1]"
   ]
  },
  {
   "cell_type": "code",
   "execution_count": 24,
   "id": "290b430b",
   "metadata": {},
   "outputs": [
    {
     "data": {
      "text/html": [
       "<div>\n",
       "<style scoped>\n",
       "    .dataframe tbody tr th:only-of-type {\n",
       "        vertical-align: middle;\n",
       "    }\n",
       "\n",
       "    .dataframe tbody tr th {\n",
       "        vertical-align: top;\n",
       "    }\n",
       "\n",
       "    .dataframe thead th {\n",
       "        text-align: right;\n",
       "    }\n",
       "</style>\n",
       "<table border=\"1\" class=\"dataframe\">\n",
       "  <thead>\n",
       "    <tr style=\"text-align: right;\">\n",
       "      <th></th>\n",
       "      <th>Name</th>\n",
       "      <th>Age</th>\n",
       "      <th>Math_Score</th>\n",
       "      <th>Literature_score</th>\n",
       "    </tr>\n",
       "  </thead>\n",
       "  <tbody>\n",
       "    <tr>\n",
       "      <th>0</th>\n",
       "      <td>Nam</td>\n",
       "      <td>21</td>\n",
       "      <td>8</td>\n",
       "      <td>3</td>\n",
       "    </tr>\n",
       "    <tr>\n",
       "      <th>1</th>\n",
       "      <td>Tom</td>\n",
       "      <td>30</td>\n",
       "      <td>10</td>\n",
       "      <td>9</td>\n",
       "    </tr>\n",
       "    <tr>\n",
       "      <th>2</th>\n",
       "      <td>Lucas</td>\n",
       "      <td>19</td>\n",
       "      <td>10</td>\n",
       "      <td>3</td>\n",
       "    </tr>\n",
       "    <tr>\n",
       "      <th>3</th>\n",
       "      <td>Lucy</td>\n",
       "      <td>17</td>\n",
       "      <td>9</td>\n",
       "      <td>3</td>\n",
       "    </tr>\n",
       "    <tr>\n",
       "      <th>4</th>\n",
       "      <td>Su</td>\n",
       "      <td>31</td>\n",
       "      <td>2</td>\n",
       "      <td>6</td>\n",
       "    </tr>\n",
       "  </tbody>\n",
       "</table>\n",
       "</div>"
      ],
      "text/plain": [
       "    Name  Age  Math_Score  Literature_score\n",
       "0    Nam   21           8                 3\n",
       "1    Tom   30          10                 9\n",
       "2  Lucas   19          10                 3\n",
       "3   Lucy   17           9                 3\n",
       "4     Su   31           2                 6"
      ]
     },
     "execution_count": 24,
     "metadata": {},
     "output_type": "execute_result"
    }
   ],
   "source": [
    "df"
   ]
  },
  {
   "cell_type": "code",
   "execution_count": 26,
   "id": "f6d62d38",
   "metadata": {},
   "outputs": [
    {
     "data": {
      "text/plain": [
       "Name                Tom\n",
       "Age                  30\n",
       "Math_Score           10\n",
       "Literature_score      9\n",
       "Name: 1, dtype: object"
      ]
     },
     "execution_count": 26,
     "metadata": {},
     "output_type": "execute_result"
    }
   ],
   "source": [
    "df.loc[1]"
   ]
  }
 ],
 "metadata": {
  "kernelspec": {
   "display_name": "Python 3",
   "language": "python",
   "name": "python3"
  },
  "language_info": {
   "codemirror_mode": {
    "name": "ipython",
    "version": 3
   },
   "file_extension": ".py",
   "mimetype": "text/x-python",
   "name": "python",
   "nbconvert_exporter": "python",
   "pygments_lexer": "ipython3",
   "version": "3.12.1"
  }
 },
 "nbformat": 4,
 "nbformat_minor": 5
}
