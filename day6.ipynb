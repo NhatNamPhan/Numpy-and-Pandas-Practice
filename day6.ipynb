{
 "cells": [
  {
   "cell_type": "code",
   "execution_count": 46,
   "id": "208ee703",
   "metadata": {},
   "outputs": [],
   "source": [
    "import pandas as pd\n",
    "import numpy as np"
   ]
  },
  {
   "cell_type": "code",
   "execution_count": 47,
   "id": "4335ce21",
   "metadata": {},
   "outputs": [
    {
     "data": {
      "text/html": [
       "<div>\n",
       "<style scoped>\n",
       "    .dataframe tbody tr th:only-of-type {\n",
       "        vertical-align: middle;\n",
       "    }\n",
       "\n",
       "    .dataframe tbody tr th {\n",
       "        vertical-align: top;\n",
       "    }\n",
       "\n",
       "    .dataframe thead th {\n",
       "        text-align: right;\n",
       "    }\n",
       "</style>\n",
       "<table border=\"1\" class=\"dataframe\">\n",
       "  <thead>\n",
       "    <tr style=\"text-align: right;\">\n",
       "      <th></th>\n",
       "      <th>Tên</th>\n",
       "      <th>Điểm Toán</th>\n",
       "      <th>Điểm Lý</th>\n",
       "      <th>Điểm Hóa</th>\n",
       "    </tr>\n",
       "  </thead>\n",
       "  <tbody>\n",
       "    <tr>\n",
       "      <th>0</th>\n",
       "      <td>Nam</td>\n",
       "      <td>1.5</td>\n",
       "      <td>10.0</td>\n",
       "      <td>10.0</td>\n",
       "    </tr>\n",
       "    <tr>\n",
       "      <th>1</th>\n",
       "      <td>An</td>\n",
       "      <td>8.0</td>\n",
       "      <td>9.0</td>\n",
       "      <td>2.0</td>\n",
       "    </tr>\n",
       "    <tr>\n",
       "      <th>2</th>\n",
       "      <td>Bình</td>\n",
       "      <td>3.0</td>\n",
       "      <td>8.0</td>\n",
       "      <td>3.0</td>\n",
       "    </tr>\n",
       "    <tr>\n",
       "      <th>3</th>\n",
       "      <td>Cường</td>\n",
       "      <td>4.0</td>\n",
       "      <td>10.0</td>\n",
       "      <td>4.5</td>\n",
       "    </tr>\n",
       "    <tr>\n",
       "      <th>4</th>\n",
       "      <td>Dương</td>\n",
       "      <td>5.0</td>\n",
       "      <td>5.0</td>\n",
       "      <td>1.0</td>\n",
       "    </tr>\n",
       "    <tr>\n",
       "      <th>5</th>\n",
       "      <td>Phú</td>\n",
       "      <td>8.0</td>\n",
       "      <td>4.5</td>\n",
       "      <td>6.0</td>\n",
       "    </tr>\n",
       "    <tr>\n",
       "      <th>6</th>\n",
       "      <td>Thịnh</td>\n",
       "      <td>2.0</td>\n",
       "      <td>3.0</td>\n",
       "      <td>2.0</td>\n",
       "    </tr>\n",
       "    <tr>\n",
       "      <th>7</th>\n",
       "      <td>Tâm</td>\n",
       "      <td>5.0</td>\n",
       "      <td>2.0</td>\n",
       "      <td>8.0</td>\n",
       "    </tr>\n",
       "    <tr>\n",
       "      <th>8</th>\n",
       "      <td>Thảo</td>\n",
       "      <td>8.0</td>\n",
       "      <td>1.0</td>\n",
       "      <td>9.0</td>\n",
       "    </tr>\n",
       "    <tr>\n",
       "      <th>9</th>\n",
       "      <td>Yến</td>\n",
       "      <td>9.0</td>\n",
       "      <td>10.0</td>\n",
       "      <td>1.0</td>\n",
       "    </tr>\n",
       "  </tbody>\n",
       "</table>\n",
       "</div>"
      ],
      "text/plain": [
       "     Tên  Điểm Toán  Điểm Lý  Điểm Hóa\n",
       "0    Nam        1.5     10.0      10.0\n",
       "1     An        8.0      9.0       2.0\n",
       "2   Bình        3.0      8.0       3.0\n",
       "3  Cường        4.0     10.0       4.5\n",
       "4  Dương        5.0      5.0       1.0\n",
       "5    Phú        8.0      4.5       6.0\n",
       "6  Thịnh        2.0      3.0       2.0\n",
       "7    Tâm        5.0      2.0       8.0\n",
       "8   Thảo        8.0      1.0       9.0\n",
       "9    Yến        9.0     10.0       1.0"
      ]
     },
     "execution_count": 47,
     "metadata": {},
     "output_type": "execute_result"
    }
   ],
   "source": [
    "#Tạo DataFrame chứa thông tin điểm thi của 10 học sinh cho 3 môn học.\n",
    "data = {'Tên':['Nam','An','Bình','Cường','Dương','Phú','Thịnh','Tâm','Thảo','Yến'],\n",
    "        'Điểm Toán':[1.5,8,3,4,5,8,2,5,8,9],\n",
    "        'Điểm Lý':[10,9,8,10,5,4.5,3,2,1,10],\n",
    "        'Điểm Hóa':[10,2,3,4.5,1,6,2,8,9,1]}\n",
    "df = pd.DataFrame(data)\n",
    "df"
   ]
  },
  {
   "cell_type": "code",
   "execution_count": 48,
   "id": "e5d7175a",
   "metadata": {},
   "outputs": [
    {
     "data": {
      "text/plain": [
       "count    10.000000\n",
       "mean      5.350000\n",
       "std       2.749242\n",
       "min       1.500000\n",
       "25%       3.250000\n",
       "50%       5.000000\n",
       "75%       8.000000\n",
       "max       9.000000\n",
       "Name: Điểm Toán, dtype: float64"
      ]
     },
     "execution_count": 48,
     "metadata": {},
     "output_type": "execute_result"
    }
   ],
   "source": [
    "#Tính thống kê mô tả (mean, min, max, std) cho từng môn học.\n",
    "toan = df['Điểm Toán'].describe()\n",
    "toan"
   ]
  },
  {
   "cell_type": "code",
   "execution_count": 49,
   "id": "2fd9479f",
   "metadata": {},
   "outputs": [
    {
     "data": {
      "text/plain": [
       "count    10.000000\n",
       "mean      6.250000\n",
       "std       3.553168\n",
       "min       1.000000\n",
       "25%       3.375000\n",
       "50%       6.500000\n",
       "75%       9.750000\n",
       "max      10.000000\n",
       "Name: Điểm Lý, dtype: float64"
      ]
     },
     "execution_count": 49,
     "metadata": {},
     "output_type": "execute_result"
    }
   ],
   "source": [
    "ly = df['Điểm Lý'].describe()\n",
    "ly"
   ]
  },
  {
   "cell_type": "code",
   "execution_count": 50,
   "id": "f55f0996",
   "metadata": {},
   "outputs": [
    {
     "data": {
      "text/plain": [
       "count    10.000000\n",
       "mean      4.650000\n",
       "std       3.399755\n",
       "min       1.000000\n",
       "25%       2.000000\n",
       "50%       3.750000\n",
       "75%       7.500000\n",
       "max      10.000000\n",
       "Name: Điểm Hóa, dtype: float64"
      ]
     },
     "execution_count": 50,
     "metadata": {},
     "output_type": "execute_result"
    }
   ],
   "source": [
    "hoa = df['Điểm Hóa'].describe()\n",
    "hoa"
   ]
  },
  {
   "cell_type": "code",
   "execution_count": 51,
   "id": "8c5ce688",
   "metadata": {},
   "outputs": [
    {
     "data": {
      "text/plain": [
       "Điểm Toán    5.35\n",
       "Điểm Lý      6.25\n",
       "Điểm Hóa     4.65\n",
       "dtype: float64"
      ]
     },
     "execution_count": 51,
     "metadata": {},
     "output_type": "execute_result"
    }
   ],
   "source": [
    "#Nhóm dữ liệu theo môn học và tính điểm trung bình.\n",
    "mean_scores = df[['Điểm Toán','Điểm Lý','Điểm Hóa']].mean()\n",
    "mean_scores"
   ]
  },
  {
   "cell_type": "code",
   "execution_count": 52,
   "id": "76cdb185",
   "metadata": {},
   "outputs": [
    {
     "data": {
      "text/html": [
       "<div>\n",
       "<style scoped>\n",
       "    .dataframe tbody tr th:only-of-type {\n",
       "        vertical-align: middle;\n",
       "    }\n",
       "\n",
       "    .dataframe tbody tr th {\n",
       "        vertical-align: top;\n",
       "    }\n",
       "\n",
       "    .dataframe thead th {\n",
       "        text-align: right;\n",
       "    }\n",
       "</style>\n",
       "<table border=\"1\" class=\"dataframe\">\n",
       "  <thead>\n",
       "    <tr style=\"text-align: right;\">\n",
       "      <th></th>\n",
       "      <th>Tên</th>\n",
       "      <th>Điểm Toán</th>\n",
       "      <th>Điểm Lý</th>\n",
       "      <th>Điểm Hóa</th>\n",
       "      <th>Điểm trung bình</th>\n",
       "    </tr>\n",
       "  </thead>\n",
       "  <tbody>\n",
       "    <tr>\n",
       "      <th>0</th>\n",
       "      <td>Nam</td>\n",
       "      <td>1.5</td>\n",
       "      <td>10.0</td>\n",
       "      <td>10.0</td>\n",
       "      <td>7.166667</td>\n",
       "    </tr>\n",
       "    <tr>\n",
       "      <th>1</th>\n",
       "      <td>An</td>\n",
       "      <td>8.0</td>\n",
       "      <td>9.0</td>\n",
       "      <td>2.0</td>\n",
       "      <td>6.333333</td>\n",
       "    </tr>\n",
       "    <tr>\n",
       "      <th>2</th>\n",
       "      <td>Bình</td>\n",
       "      <td>3.0</td>\n",
       "      <td>8.0</td>\n",
       "      <td>3.0</td>\n",
       "      <td>4.666667</td>\n",
       "    </tr>\n",
       "    <tr>\n",
       "      <th>3</th>\n",
       "      <td>Cường</td>\n",
       "      <td>4.0</td>\n",
       "      <td>10.0</td>\n",
       "      <td>4.5</td>\n",
       "      <td>6.166667</td>\n",
       "    </tr>\n",
       "    <tr>\n",
       "      <th>4</th>\n",
       "      <td>Dương</td>\n",
       "      <td>5.0</td>\n",
       "      <td>5.0</td>\n",
       "      <td>1.0</td>\n",
       "      <td>3.666667</td>\n",
       "    </tr>\n",
       "    <tr>\n",
       "      <th>5</th>\n",
       "      <td>Phú</td>\n",
       "      <td>8.0</td>\n",
       "      <td>4.5</td>\n",
       "      <td>6.0</td>\n",
       "      <td>6.166667</td>\n",
       "    </tr>\n",
       "    <tr>\n",
       "      <th>6</th>\n",
       "      <td>Thịnh</td>\n",
       "      <td>2.0</td>\n",
       "      <td>3.0</td>\n",
       "      <td>2.0</td>\n",
       "      <td>2.333333</td>\n",
       "    </tr>\n",
       "    <tr>\n",
       "      <th>7</th>\n",
       "      <td>Tâm</td>\n",
       "      <td>5.0</td>\n",
       "      <td>2.0</td>\n",
       "      <td>8.0</td>\n",
       "      <td>5.000000</td>\n",
       "    </tr>\n",
       "    <tr>\n",
       "      <th>8</th>\n",
       "      <td>Thảo</td>\n",
       "      <td>8.0</td>\n",
       "      <td>1.0</td>\n",
       "      <td>9.0</td>\n",
       "      <td>6.000000</td>\n",
       "    </tr>\n",
       "    <tr>\n",
       "      <th>9</th>\n",
       "      <td>Yến</td>\n",
       "      <td>9.0</td>\n",
       "      <td>10.0</td>\n",
       "      <td>1.0</td>\n",
       "      <td>6.666667</td>\n",
       "    </tr>\n",
       "  </tbody>\n",
       "</table>\n",
       "</div>"
      ],
      "text/plain": [
       "     Tên  Điểm Toán  Điểm Lý  Điểm Hóa  Điểm trung bình\n",
       "0    Nam        1.5     10.0      10.0         7.166667\n",
       "1     An        8.0      9.0       2.0         6.333333\n",
       "2   Bình        3.0      8.0       3.0         4.666667\n",
       "3  Cường        4.0     10.0       4.5         6.166667\n",
       "4  Dương        5.0      5.0       1.0         3.666667\n",
       "5    Phú        8.0      4.5       6.0         6.166667\n",
       "6  Thịnh        2.0      3.0       2.0         2.333333\n",
       "7    Tâm        5.0      2.0       8.0         5.000000\n",
       "8   Thảo        8.0      1.0       9.0         6.000000\n",
       "9    Yến        9.0     10.0       1.0         6.666667"
      ]
     },
     "execution_count": 52,
     "metadata": {},
     "output_type": "execute_result"
    }
   ],
   "source": [
    "#Tạo bảng pivot hiển thị điểm trung bình của mỗi học sinh theo môn học.\n",
    "df['Điểm trung bình'] = df[['Điểm Toán','Điểm Lý','Điểm Hóa']].mean(axis=1)\n",
    "df"
   ]
  },
  {
   "cell_type": "code",
   "execution_count": 53,
   "id": "813e3fee",
   "metadata": {},
   "outputs": [
    {
     "data": {
      "text/plain": [
       "Tên                     Nam\n",
       "Điểm Toán               1.5\n",
       "Điểm Lý                10.0\n",
       "Điểm Hóa               10.0\n",
       "Điểm trung bình    7.166667\n",
       "Name: 0, dtype: object"
      ]
     },
     "execution_count": 53,
     "metadata": {},
     "output_type": "execute_result"
    }
   ],
   "source": [
    "#Học sinh có điểm trung bình cao nhất\n",
    "df.loc[df['Điểm trung bình'].idxmax()]\n"
   ]
  }
 ],
 "metadata": {
  "kernelspec": {
   "display_name": "Python 3",
   "language": "python",
   "name": "python3"
  },
  "language_info": {
   "codemirror_mode": {
    "name": "ipython",
    "version": 3
   },
   "file_extension": ".py",
   "mimetype": "text/x-python",
   "name": "python",
   "nbconvert_exporter": "python",
   "pygments_lexer": "ipython3",
   "version": "3.12.1"
  }
 },
 "nbformat": 4,
 "nbformat_minor": 5
}
